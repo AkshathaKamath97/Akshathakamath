{
  "nbformat": 4,
  "nbformat_minor": 0,
  "metadata": {
    "colab": {
      "name": "In_class_exercise_01.ipynb",
      "provenance": [],
      "collapsed_sections": []
    },
    "kernelspec": {
      "name": "python3",
      "display_name": "Python 3"
    }
  },
  "cells": [
    {
      "cell_type": "markdown",
      "metadata": {
        "id": "DymRJbxDBCnf",
        "colab_type": "text"
      },
      "source": [
        "# **The first In-class-exercise**"
      ]
    },
    {
      "cell_type": "markdown",
      "metadata": {
        "id": "03jb4GZsBkBS",
        "colab_type": "text"
      },
      "source": [
        "(1) Write a Python program to calculate the length of a string."
      ]
    },
    {
      "cell_type": "code",
      "metadata": {
        "id": "YaGLbSHHB8Ej",
        "colab_type": "code",
        "colab": {
          "base_uri": "https://localhost:8080/",
          "height": 36
        },
        "outputId": "6c70ca31-a648-41c9-a683-dd7cb850405f"
      },
      "source": [
        "string=\"akshatha\"\n",
        "print(len(string))\n"
      ],
      "execution_count": 3,
      "outputs": [
        {
          "output_type": "stream",
          "text": [
            "8\n"
          ],
          "name": "stdout"
        }
      ]
    },
    {
      "cell_type": "markdown",
      "metadata": {
        "id": "jJDe71iLB616",
        "colab_type": "text"
      },
      "source": [
        "(2) Write a Python program to count the number of characters in a string.\n",
        "\n",
        "Sample String : 'google.com‘, \n",
        "\n",
        "Expected Result : {'o': 3, 'g': 2, '.': 1, 'e': 1, 'l': 1, 'm': 1, 'c': 1}"
      ]
    },
    {
      "cell_type": "code",
      "metadata": {
        "id": "MtKskTzbCLaU",
        "colab_type": "code",
        "colab": {
          "base_uri": "https://localhost:8080/",
          "height": 54
        },
        "outputId": "1d4b999f-71b0-430c-b4c8-cef7643b425d"
      },
      "source": [
        "sentence=\"outlook.com\"\n",
        "character={}\n",
        "for i in sentence:\n",
        "  if i in character:\n",
        "    character[i] += 1\n",
        "  else:\n",
        "    character[i] = 1\n",
        "print(\"per i in character in '{}' is:\\n {}\" .format(sentence,str(character)))"
      ],
      "execution_count": 69,
      "outputs": [
        {
          "output_type": "stream",
          "text": [
            "per i in character in 'outlook.com' is:\n",
            " {'o': 4, 'u': 1, 't': 1, 'l': 1, 'k': 1, '.': 1, 'c': 1, 'm': 1}\n"
          ],
          "name": "stdout"
        }
      ]
    },
    {
      "cell_type": "markdown",
      "metadata": {
        "id": "55W9AMdXCSpV",
        "colab_type": "text"
      },
      "source": [
        "(3) Write a Python program to sum all the items in a list"
      ]
    },
    {
      "cell_type": "code",
      "metadata": {
        "id": "I57NXsauCec2",
        "colab_type": "code",
        "colab": {
          "base_uri": "https://localhost:8080/",
          "height": 241
        },
        "outputId": "64930ca6-1039-462e-a6ab-4f5f1989a676"
      },
      "source": [
        "list=[]\n",
        "num=int(input(\"numbers:\"))\n",
        "for n in range(num):\n",
        "  num=int(input(\"num:\"))\n",
        "  list.append(num)\n",
        "print(\"sum\",sum(list))\n",
        "\n",
        "\n"
      ],
      "execution_count": 17,
      "outputs": [
        {
          "output_type": "stream",
          "text": [
            "numbers:10\n",
            "num:2\n",
            "num:2\n",
            "num:2\n",
            "num:2\n",
            "num:2\n",
            "num:2\n",
            "num:2\n",
            "num:2\n",
            "num:2\n",
            "num:2\n",
            "sum 20\n"
          ],
          "name": "stdout"
        }
      ]
    },
    {
      "cell_type": "markdown",
      "metadata": {
        "id": "4ulBZ6yhCi9F",
        "colab_type": "text"
      },
      "source": [
        "(4) Write a Python program to get a string from a given string where all occurrences of its first char have been changed to '\\$', except the first char itself. \n",
        "\n",
        "Sample String : 'restart‘, \n",
        "\n",
        "Expected Result : 'resta\\$t'"
      ]
    },
    {
      "cell_type": "code",
      "metadata": {
        "id": "Fj0XhwbBCw2o",
        "colab_type": "code",
        "colab": {
          "base_uri": "https://localhost:8080/",
          "height": 36
        },
        "outputId": "e6b3f72a-0f3b-401c-f733-b15f8a903647"
      },
      "source": [
        "def replace(a1):\n",
        "  char = a1[0]\n",
        "  a1 = a1.replace(char, '$')\n",
        "  a2 = char + a1[1:]\n",
        "  return a2\n",
        "print(replace('students'))\n"
      ],
      "execution_count": 71,
      "outputs": [
        {
          "output_type": "stream",
          "text": [
            "student$\n"
          ],
          "name": "stdout"
        }
      ]
    },
    {
      "cell_type": "markdown",
      "metadata": {
        "id": "_bIP7s1MCzue",
        "colab_type": "text"
      },
      "source": [
        "(5) Write a program with python which could accept two parameter a and b to calculate and output the result of S, where \n",
        "\n",
        "$\\ S=3.14*(1+a/b)^3$\n",
        "\n"
      ]
    },
    {
      "cell_type": "code",
      "metadata": {
        "id": "w79QilHXD3Mg",
        "colab_type": "code",
        "colab": {
          "base_uri": "https://localhost:8080/",
          "height": 73
        },
        "outputId": "b274c241-82d8-41a5-eea8-c26bf734821b"
      },
      "source": [
        "def formula(a,b):\n",
        "  return 3.14*(1+(float(a)/float(b) )**3 )\n",
        "a = input(\"a= \")\n",
        "b= input (\"b= \")\n",
        "formula(a,b)"
      ],
      "execution_count": 73,
      "outputs": [
        {
          "output_type": "stream",
          "text": [
            "a= 6\n",
            "b= 7\n"
          ],
          "name": "stdout"
        },
        {
          "output_type": "execute_result",
          "data": {
            "text/plain": [
              "5.11737609329446"
            ]
          },
          "metadata": {
            "tags": []
          },
          "execution_count": 73
        }
      ]
    },
    {
      "cell_type": "markdown",
      "metadata": {
        "id": "xCa2bK9aD4Q3",
        "colab_type": "text"
      },
      "source": [
        "(6) Write a Python program to concatenate following dictionaries to create a new one. \n",
        "\n",
        "Sample Dictionary : dic1={1:10, 2:20}, dic2={3:30, 4:40}, dic3={5:50,6:60}, \n",
        "\n",
        "Expected Result : {1: 10, 2: 20, 3: 30, 4: 40, 5: 50, 6: 60}\n"
      ]
    },
    {
      "cell_type": "code",
      "metadata": {
        "id": "_z4aLqAbEET1",
        "colab_type": "code",
        "colab": {
          "base_uri": "https://localhost:8080/",
          "height": 36
        },
        "outputId": "5fbde287-4d28-4bf1-fcf9-96aa6be2a12a"
      },
      "source": [
        "s1 = {10:20,30:40}\n",
        "s2 = {30:40,40:50}\n",
        "s3 = {20:10,50:80}\n",
        "\n",
        "s4 = {}\n",
        "for dic in [s1,s2,s3]:\n",
        "   s4.update(dic)\n",
        "print(s4)"
      ],
      "execution_count": 78,
      "outputs": [
        {
          "output_type": "stream",
          "text": [
            "{10: 20, 30: 40, 40: 50, 20: 10, 50: 80}\n"
          ],
          "name": "stdout"
        }
      ]
    },
    {
      "cell_type": "markdown",
      "metadata": {
        "id": "0v48Vqa7FrQh",
        "colab_type": "text"
      },
      "source": [
        "(7) Write a Python program to check whether an element exists within a tuple."
      ]
    },
    {
      "cell_type": "code",
      "metadata": {
        "id": "7WEmgq-DF2P1",
        "colab_type": "code",
        "colab": {
          "base_uri": "https://localhost:8080/",
          "height": 54
        },
        "outputId": "8de9ca4b-5a59-4c34-a04d-78e239880587"
      },
      "source": [
        "tuple = (\"Apple\", \"Mango\", \"Grapes\", \"Banana\",\"kiwi\")\n",
        "string = input(\"input a fruit name:\")\n",
        "if string in tuple:\n",
        "  print(string + \" is exist\")\n"
      ],
      "execution_count": 83,
      "outputs": [
        {
          "output_type": "stream",
          "text": [
            "input a fruit nmae:Apple\n",
            "Apple is exits\n"
          ],
          "name": "stdout"
        }
      ]
    },
    {
      "cell_type": "markdown",
      "metadata": {
        "id": "vD5PYLMuGga_",
        "colab_type": "text"
      },
      "source": [
        "(8) Write a Python program to find maximum and the minimum value in a set. "
      ]
    },
    {
      "cell_type": "code",
      "metadata": {
        "id": "t0D5kdJUGjjw",
        "colab_type": "code",
        "colab": {
          "base_uri": "https://localhost:8080/",
          "height": 54
        },
        "outputId": "2d6e354b-fec3-48a2-b9a9-c7f30c714baa"
      },
      "source": [
        "#def max(sets):\n",
        "#def min(sets):\n",
        "#return(max[sets])\n",
        "#return(min(sets))\n",
        "sets=set([1,2,3,4,5,6,7,8,9])\n",
        "print(max(sets))\n",
        "print(min(sets))\n"
      ],
      "execution_count": 32,
      "outputs": [
        {
          "output_type": "stream",
          "text": [
            "9\n",
            "1\n"
          ],
          "name": "stdout"
        }
      ]
    },
    {
      "cell_type": "markdown",
      "metadata": {
        "id": "uHkd-y5VhVWC",
        "colab_type": "text"
      },
      "source": [
        "(9) Write a Python program to randomly divide the students in this class into four groups for term projects. Here is the students list:\n",
        "\n",
        "studnet_list = ['sa0753','laa0240','lba0043','pb0283','vmb0067','vcd0017','ag1121','lg0426','mj0396','ak0860','vk0222','vk0216',\n",
        "                'tpk0023','nk0327','mk0830','tbl0041','al0787','am1823','sm1515','km0738','hn0139','an0521','ap0975','dp1080',\n",
        "                'pk0292','vp0241','rp0477','hr0178','ps0501','ss1976','ss1872','ss1872','bs0490','pt0218','ry0104']"
      ]
    },
    {
      "cell_type": "code",
      "metadata": {
        "id": "3iGbmcOBhTwy",
        "colab_type": "code",
        "colab": {
          "base_uri": "https://localhost:8080/",
          "height": 92
        },
        "outputId": "3dd31341-68fe-4b9c-97c1-1758fadb8f90"
      },
      "source": [
        "import random\n",
        "list = ['sa0753','laa0240','lba0043','pb0283','vmb0067','vcd0017','ag1121','lg0426','mj0396','ak0860','vk0222','vk0216', 'tpk0023','nk0327','mk0830','tbl0041','al0787','am1823','sm1515','km0738','hn0139','an0521','ap0975','dp1080', 'pk0292','vp0241','rp0477','hr0178','ps0501','ss1976','ss1872','ss1872','bs0490','pt0218','ry0104']\n",
        "for i in range(4):\n",
        "  s = random.choices(list, k=6)\n",
        "  list=[i for i in list if i not in s]\n",
        "  print(\"Group \" +str(i+1)+\": \",s)"
      ],
      "execution_count": 63,
      "outputs": [
        {
          "output_type": "stream",
          "text": [
            "Group 1:  ['dp1080', 'pt0218', 'vmb0067', 'nk0327', 'sa0753', 'tpk0023']\n",
            "Group 2:  ['ss1976', 'pb0283', 'tbl0041', 'ss1976', 'ag1121', 'am1823']\n",
            "Group 3:  ['an0521', 'vk0222', 'mk0830', 'mj0396', 'bs0490', 'ps0501']\n",
            "Group 4:  ['ap0975', 'rp0477', 'laa0240', 'vp0241', 'ry0104', 'vcd0017']\n"
          ],
          "name": "stdout"
        }
      ]
    }
  ]
}