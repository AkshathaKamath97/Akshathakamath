{
  "nbformat": 4,
  "nbformat_minor": 0,
  "metadata": {
    "colab": {
      "name": "Copy of In_class_exercise_05.ipynb",
      "provenance": [],
      "collapsed_sections": [],
      "include_colab_link": true
    },
    "kernelspec": {
      "name": "python3",
      "display_name": "Python 3"
    }
  },
  "cells": [
    {
      "cell_type": "markdown",
      "metadata": {
        "id": "view-in-github",
        "colab_type": "text"
      },
      "source": [
        "<a href=\"https://colab.research.google.com/github/AkshathaKamath97/Akshathakamath/blob/master/Copy_of_In_class_exercise_05.ipynb\" target=\"_parent\"><img src=\"https://colab.research.google.com/assets/colab-badge.svg\" alt=\"Open In Colab\"/></a>"
      ]
    },
    {
      "cell_type": "markdown",
      "metadata": {
        "id": "z7TahL04sVvR",
        "colab_type": "text"
      },
      "source": [
        "# **The fifth in-class-exercise**"
      ]
    },
    {
      "cell_type": "markdown",
      "metadata": {
        "id": "ejyZITr8sjnh",
        "colab_type": "text"
      },
      "source": [
        "## **1. Rule-based information extraction**\n",
        "\n",
        "Use any keywords related to data science, natural language processing, machine learning to search from google scholar, get the **titles** of 100 articles (either by web scraping or manually) about this topic, define a set of patterns to extract the research questions/problems, methods/algorithms/models, datasets, applications, or any other important information about this topic. "
      ]
    },
    {
      "cell_type": "code",
      "metadata": {
        "id": "XvR_O9D8sOUY",
        "colab_type": "code",
        "outputId": "1715e218-83bd-4287-f378-7c26cfe3563f",
        "colab": {
          "base_uri": "https://localhost:8080/",
          "height": 56
        }
      },
      "source": [
        "import pandas as pd\n",
        "import csv\n",
        "with open(\"Inclass5.txt\", \"r\", newline = \"\", encoding = 'utf-8') as file:\n",
        "  titles = file.read()\n",
        "titles"
      ],
      "execution_count": 129,
      "outputs": [
        {
          "output_type": "execute_result",
          "data": {
            "text/plain": [
              "'\"Distilling the knowledge in a neural network\"\\r\\n\"Deep neural networks are easily fooled High confidence predictions for unrecognizable images\"\\r\\n\"How transferable are features in deep neural networks\"\\r\\n\"CNN features off-the-Shelf An astounding baseline for recognition\"\\r\\n\"Learning and transferring mid-Level image representations using convolutional neural networks\"\\r\\n\"Visualizing and understanding convolutional networks\"\\r\\n\"Decaf A deep convolutional activation feature for generic visual recognition\"\\r\\n\"Training very deep networks\"\\r\\n\"Batch normalization Accelerating deep network training by reducing internal covariate shift\"\\r\\n\"Delving deep into rectifiers Surpassing human-level performance on imagenet classification\"\\r\\n\"Dropout A simple way to prevent neural networks from overfitting\"\\r\\n\"Adam A method for stochastic optimization\"\\r\\n\"Improving neural networks by preventing co-adaptation of feature detectors\"\\r\\n\"Random search for hyper-parameter optimization\"\\r\\n\"MobileNets Efficient Convolutinal Neural Networks for Mobile Vision Applications\"\\r\\n\"A Knowledge-Grounded Neural Conversation Model\"\\r\\n\"Accurate, Large Minibatch SGDTraining ImageNet in 1 Hour\"\\r\\n\"TACOTRON Towards end-to-end speech synthesis\"\\r\\n\"Deep Photo Style Transfer\"\\r\\n\"Evolution Strategies as a Scalable Alternative to Reinforcement Learning\"\\r\\n\"Deformable Convolutional Networks\"\\r\\n\"Mask R-CNN\"\\r\\n\"Learning to discover cross-domain relations with generative adversarial networks\"\\r\\n\"Deep voice Real-time neural text-to-speech\"\\r\\n\"PixelNet Representation of the pixels, by the pixels, and for the pixels\"\\r\\n\"Batch renormalization Towards reducing minibatch dependence in batch-normalized models\"\\r\\n\"Wasserstein GAN\"\\r\\n\"Understanding deep learning requires rethinking generalization\"\\r\\n\"An analysis of single-layer networks in unsupervised feature learning\"\\r\\n\"Deep sparse rectifier neural networks\"\\r\\n\"Natural language processing from scratch\"\\r\\n\"Recurrent neural network based language model\"\\r\\n\"Stacked denoising autoencoders earning useful representations in a deep network with a local denoising criterion\"\\r\\n\"Learning mid-level features for recognition\"\\r\\n\"A practical guide to training restricted boltzmann machines\"\\r\\n\"Understanding the difficulty of training deep feedforward neural networks\"\\r\\n\"Why does unsupervised pre-training help deep learning\"\\r\\n\"Learning deep architectures for AI\"\\r\\n\"Convolutional deep belief networks for scalble unsupervised learning of hierarchical representations\"\\r\\n\"Greedy layer-wise training of deep networks\"\\r\\n\"Reducing the dimensionality of data with neural networks\"\\r\\n\"A fast learning algorithm for deep belief nets\"\\r\\n\"Gradient-based learning applied to document recognition\"\\r\\n\"Long short-term memory\"\\r\\n\"SQuAD 100,000+ Questions for Machine Comprehension of Text\"\\r\\n\"OpenAI gym\"\\r\\n\"TensorFlow Large-scale machine learning on heterogeneous distributed systems\"\\r\\n\"Theano A Python framework for fast computation of mathematical expressions\"\\r\\n\"Torch7 A matlab-like environment for machinelearning\"\\r\\n\"MatConvNet Convolutional neural networks for matlab\"\\r\\n\"Imagenet large scale visual recognition challenge\"\\r\\n\"Caffe Convolutional architecture for fast feature embedding\"\\r\\n\"On the Origin of Deep Learning\"\\r\\n\"Deep Reinforcement Learning An Overview\"\\r\\n\"Neural Machine Translation and Sequence-to-sequence Models\"\\r\\n\"Neural Network and Deep Learning\"\\r\\n\"Deep learning processes\"\\r\\n\"LSTM A search space odyssey\"\\r\\n\"Tutorial on Variational Autoencoders\"\\r\\n\"Deep learning\"\\r\\n\"Deep learning in neural networks An overview\"\\r\\n\"Representation learning A review and new perspectives\"\\r\\n\"A character-level decoder without explicit segmentation for neural machine translation\"\\r\\n\"Dermatologist-level classification of skin cancer with deep neural networks\"\\r\\n\"Weakly supervised object localization with multi-fold multiple instance learning\"\\r\\n\"Brain tumor segmentation with deep neural networks\"\\r\\n\"Professor Forcing A New Algorithm for Training Recurrent Networks\"\\r\\n\"Adversarially learned inference\"r\\\\n\"Understanding convolutional neural networks\"\\r\\n\"Taking the human out of the loop A review of bayesian optimization\"\\r\\n\"Adaptive computation time for recurrent neural networks\"\\r\\n\"Densely connected convolutional networks\"\\r\\n\"Region-based convolutional networks for accurate object detection and segmentation\"\\r\\n\"Continuous deep q-learning with model-based acceleration\"\\r\\n\"A thorough examination of the cnn/daily mail reading comprehension task\"\\r\\n\"Achieving open vocabulary neural machine translation with hybrid word-character models\"\\r\\n\"Very Deep Convolutional Networks for Natural Language Processing\"\\r\\n\"Bag of tricks for efficient text classification\"\\r\\n\"Efficient piecewise training of deep structured models for semantic segmentation\"\\r\\n\"Learning to compose neural networks for question answering\"\\r\\n\"Perceptual losses for real-time style transfer and super-resolution\"\\r\\n\"Reading text in the wild with convolutional neural network\"\\r\\n\"What makes for effective detection proposals\"\\r\\n\"Inside-outsie net Detecting objects in context with skip pooling and recurrent neural networks\"\\r\\n\"Instance-aware semantic segmentation via multi-task network cascades\"\\r\\n\"Conditional image generation with pixel cnn decoders\"\\r\\n\"Deep networks with stochastic depth\"\\r\\n\"Consistency and Fluctuations For Stochastic Gradient Langevin Dynamics\"\\r\\n\"Ask your neurons A neural-based approach to answering questions about images\"\\r\\n\"Exploring models and data for image question answering\"\\r\\n\"Are you talking to a machine dataset and methods for multilingual image question\"\\r\\n\"Mind\\'s eye A recurrent visual representation for image caption generation\"\\r\\n\"From captions to visual concepts and back\"\\r\\n\"Towards AI-complete question answering A set of prerequisite toy tasks\"\\r\\n\"Ask me anything Dynamic memory networks for natural language processing\"\\r\\n\"Unsupervised learning of video representations using LSTMs\"\\r\\n\"Deep compression Compressing deep neural networks with pruning, trained quantization and huffman coding\"\\r\\n\"Improved semantic representations from tree-structured long short-term memory networks\"\\r\\n\"Character-aware neural language models\"\\r\\n\"Machine learning with Tensorflow\"\\r\\n\"Autism research using Machine Learning algorithms\"\\r\\n'"
            ]
          },
          "metadata": {
            "tags": []
          },
          "execution_count": 129
        }
      ]
    },
    {
      "cell_type": "code",
      "metadata": {
        "id": "YlAVnbpmS2yl",
        "colab_type": "code",
        "colab": {}
      },
      "source": [
        "import pandas as pd\n",
        "import nltk\n",
        "import string\n",
        "import csv\n",
        "import re\n",
        "import spacy\n",
        "import numpy as np\n",
        "import math\n",
        "from tqdm import tqdm\n",
        "from spacy.tokens import Span\n",
        "from spacy import displacy\n",
        "from spacy.matcher import Matcher\n",
        "\n",
        "pd.set_option('display.max_colwidth', 200)\n",
        "n = spacy.load(\"en_core_web_sm\")"
      ],
      "execution_count": 0,
      "outputs": []
    },
    {
      "cell_type": "code",
      "metadata": {
        "id": "cqennWRzu7d9",
        "colab_type": "code",
        "outputId": "f17b50a0-ef02-4fb1-da4d-d7db334437de",
        "colab": {
          "base_uri": "https://localhost:8080/",
          "height": 223
        }
      },
      "source": [
        "d = n('Training very deep networks via Mask R-CNN')\n",
        "for token in d:\n",
        "  print(token.text, \"-->\", token.dep_,\"-->\",token.pos_)\n",
        "p = [{},{'lower':'knowledge','OP':'?'},{'lower':'graph','OP':'?'},{},{'lower':'via'},{'POS':'PROPN','OP':'+'},{},{'POS':'Noun','OP':'*'}]\n",
        "matcher = Matcher(n.vocab)\n",
        "matcher.add(\"matching_1\",None,p)\n",
        "matches = matcher(d)\n",
        "span1 = d[matches[0][1]:matches[1][2]]\n",
        "span2 = d[matches[0][1]:matches[1][2]]\n",
        "if len(span1) >= len(span2):\n",
        "  print(span1.text)\n",
        "print(span2.text)"
      ],
      "execution_count": 131,
      "outputs": [
        {
          "output_type": "stream",
          "text": [
            "Training --> ROOT --> VERB\n",
            "very --> advmod --> ADV\n",
            "deep --> amod --> ADJ\n",
            "networks --> dobj --> NOUN\n",
            "via --> prep --> ADP\n",
            "Mask --> compound --> PROPN\n",
            "R --> compound --> PROPN\n",
            "- --> punct --> PUNCT\n",
            "CNN --> pobj --> PROPN\n",
            "deep networks via Mask R-\n",
            "deep networks via Mask R-\n"
          ],
          "name": "stdout"
        }
      ]
    },
    {
      "cell_type": "code",
      "metadata": {
        "id": "xBpFrbAuCiq2",
        "colab_type": "code",
        "colab": {
          "base_uri": "https://localhost:8080/",
          "height": 204
        },
        "outputId": "29f15f95-ebd9-4cfa-9ccd-37fe9b9eca63"
      },
      "source": [
        "d = n(titles)\n",
        "def find_pattern(pattern):\n",
        "  matcher = Matcher(n.vocab)\n",
        "  matcher.add(\"matching_1\", None, pattern)\n",
        "  matches = matcher(d)\n",
        "  if (len(matches)>0):\n",
        "    span = d[matches[0][1]:matches[0][2]]\n",
        "    print(span.text)\n",
        "\n",
        "p1 = [{'POS':'NOUN'},\n",
        "      {'LOWER':'and'},\n",
        "      {'LOWER':'the','OP':\"?\"},\n",
        "      {'POS':'NOUN'}]\n",
        "\n",
        "p2 = [{'POS':'NOUN'},\n",
        "      {'LOWER':'using'},\n",
        "      {'POS':'ADJ','OP':\"*\"},\n",
        "      {'POS':'NOUN'}]\n",
        "\n",
        "p3 = [{'POS':'NOUN'},\n",
        "      {'LOWER':'with'},\n",
        "      {'POS':'ADJ','OP':\"*\"},\n",
        "      {'POS':'NOUN'}]\n",
        "\n",
        "p4 = [{'POS':'NOUN','OP':\"+\"},\n",
        "      {'POS':'VERB','OP':\"*\"},\n",
        "      {'LOWER':'for'},\n",
        "      {'POS':'ADJ','OP':\"*\"},\n",
        "      {'POS':'NOUN'},\n",
        "      {'POS':'NOUN','OP':\"?\"}]\n",
        "\n",
        "p5 = [{},\n",
        "      {},\n",
        "      {},\n",
        "      {'lower':'for'},\n",
        "      {'POS':'PROPN','OP':'+'}]\n",
        "\n",
        "print(\"and:\")\n",
        "find_pattern(p1)\n",
        "print(\"using:\")\n",
        "find_pattern(p2)\n",
        "print(\"with:\")\n",
        "find_pattern(p3)\n",
        "print(\"for:\")\n",
        "find_pattern(p4)\n",
        "print('for:')\n",
        "find_pattern(p5)\n",
        "\n"
      ],
      "execution_count": 132,
      "outputs": [
        {
          "output_type": "stream",
          "text": [
            "and:\n",
            "detection and segmentation\n",
            "using:\n",
            "representations using convolutional neural networks\n",
            "with:\n",
            "relations with generative adversarial networks\n",
            "for:\n",
            "predictions for unrecognizable images\n",
            "for:\n",
            "Convolutinal Neural Networks for Mobile\n"
          ],
          "name": "stdout"
        }
      ]
    },
    {
      "cell_type": "markdown",
      "metadata": {
        "id": "Dq_7VGmrsum4",
        "colab_type": "text"
      },
      "source": [
        "## **2. Domain-specific information extraction**\n",
        "\n",
        "For the legal case used in the data cleaning exercise: [01-05-1 Adams v Tanner.txt](https://raw.githubusercontent.com/unt-iialab/INFO5731_Spring2020/master/In_class_exercise/01-05-1%20%20Adams%20v%20Tanner.txt), use [legalNLP](https://lexpredict-lexnlp.readthedocs.io/en/latest/modules/extract/extract.html#nlp-based-extraction-methods) to extract the following inforation from the text (if the information is not exist, just print None):\n",
        "\n",
        "(1) acts, e.g., “section 1 of the Advancing Hope Act, 1986”\n",
        "\n",
        "(2) amounts, e.g., “ten pounds” or “5.8 megawatts”\n",
        "\n",
        "(3) citations, e.g., “10 U.S. 100” or “1998 S. Ct. 1”\n",
        "\n",
        "(4) companies, e.g., “Lexpredict LLC”\n",
        "\n",
        "(5) conditions, e.g., “subject to …” or “unless and until …”\n",
        "\n",
        "(6) constraints, e.g., “no more than”\n",
        "\n",
        "(7) copyright, e.g., “(C) Copyright 2000 Acme”\n",
        "\n",
        "(8) courts, e.g., “Supreme Court of New York”\n",
        "\n",
        "(9) CUSIP, e.g., “392690QT3”\n",
        "\n",
        "(10) dates, e.g., “June 1, 2017” or “2018-01-01”\n",
        "\n",
        "(11) definitions, e.g., “Term shall mean …”\n",
        "\n",
        "(12) distances, e.g., “fifteen miles”\n",
        "\n",
        "(13) durations, e.g., “ten years” or “thirty days”\n",
        "\n",
        "(14) geographic and geopolitical entities, e.g., “New York” or “Norway”\n",
        "\n",
        "(15) money and currency usages, e.g., “$5” or “10 Euro”\n",
        "\n",
        "(16) percents and rates, e.g., “10%” or “50 bps”\n",
        "\n",
        "(17) PII, e.g., “212-212-2121” or “999-999-9999”\n",
        "\n",
        "(18) ratios, e.g.,” 3:1” or “four to three”\n",
        "\n",
        "(19) regulations, e.g., “32 CFR 170”\n",
        "\n",
        "(20) trademarks, e.g., “MyApp (TM)”\n",
        "\n",
        "(21) URLs, e.g., “http://acme.com/”\n",
        "\n",
        "(22) addresses, e.g., “1999 Mount Read Blvd, Rochester, NY, USA, 14615”\n",
        "\n",
        "(23) persons, e.g., “John Doe"
      ]
    },
    {
      "cell_type": "code",
      "metadata": {
        "id": "X_xxIQ-EWt8C",
        "colab_type": "code",
        "outputId": "9fe19d76-90cf-4602-bf4b-81f034e09c7c",
        "colab": {
          "base_uri": "https://localhost:8080/",
          "height": 652
        }
      },
      "source": [
        "!pip install lexnlp"
      ],
      "execution_count": 133,
      "outputs": [
        {
          "output_type": "stream",
          "text": [
            "Requirement already satisfied: lexnlp in /usr/local/lib/python3.6/dist-packages (1.4.0)\n",
            "Requirement already satisfied: scikit-learn==0.21.3 in /usr/local/lib/python3.6/dist-packages (from lexnlp) (0.21.3)\n",
            "Requirement already satisfied: gensim==3.4.0 in /usr/local/lib/python3.6/dist-packages (from lexnlp) (3.4.0)\n",
            "Requirement already satisfied: datefinder-lexpredict==0.6.2 in /usr/local/lib/python3.6/dist-packages (from lexnlp) (0.6.2)\n",
            "Requirement already satisfied: nltk==3.4.5 in /usr/local/lib/python3.6/dist-packages (from lexnlp) (3.4.5)\n",
            "Requirement already satisfied: typing==3.6.2 in /usr/local/lib/python3.6/dist-packages (from lexnlp) (3.6.2)\n",
            "Requirement already satisfied: requests==2.22.0 in /usr/local/lib/python3.6/dist-packages (from lexnlp) (2.22.0)\n",
            "Requirement already satisfied: Unidecode==0.4.21 in /usr/local/lib/python3.6/dist-packages (from lexnlp) (0.4.21)\n",
            "Requirement already satisfied: regex==2017.9.23 in /usr/local/lib/python3.6/dist-packages (from lexnlp) (2017.9.23)\n",
            "Requirement already satisfied: scipy==1.0.0 in /usr/local/lib/python3.6/dist-packages (from lexnlp) (1.0.0)\n",
            "Requirement already satisfied: num2words==0.5.7 in /usr/local/lib/python3.6/dist-packages (from lexnlp) (0.5.7)\n",
            "Requirement already satisfied: us==1.0.0 in /usr/local/lib/python3.6/dist-packages (from lexnlp) (1.0.0)\n",
            "Requirement already satisfied: pandas==0.23.4 in /usr/local/lib/python3.6/dist-packages (from lexnlp) (0.23.4)\n",
            "Requirement already satisfied: reporters-db==1.0.12.1 in /usr/local/lib/python3.6/dist-packages (from lexnlp) (1.0.12.1)\n",
            "Requirement already satisfied: dateparser==0.7.0 in /usr/local/lib/python3.6/dist-packages (from lexnlp) (0.7.0)\n",
            "Requirement already satisfied: pycountry==18.5.26 in /usr/local/lib/python3.6/dist-packages (from lexnlp) (18.5.26)\n",
            "Requirement already satisfied: numpy>=1.11.0 in /usr/local/lib/python3.6/dist-packages (from scikit-learn==0.21.3->lexnlp) (1.17.5)\n",
            "Requirement already satisfied: joblib>=0.11 in /usr/local/lib/python3.6/dist-packages (from scikit-learn==0.21.3->lexnlp) (0.14.1)\n",
            "Requirement already satisfied: six>=1.5.0 in /usr/local/lib/python3.6/dist-packages (from gensim==3.4.0->lexnlp) (1.12.0)\n",
            "Requirement already satisfied: smart-open>=1.2.1 in /usr/local/lib/python3.6/dist-packages (from gensim==3.4.0->lexnlp) (1.9.0)\n",
            "Requirement already satisfied: python-dateutil>=2.4.2 in /usr/local/lib/python3.6/dist-packages (from datefinder-lexpredict==0.6.2->lexnlp) (2.6.1)\n",
            "Requirement already satisfied: pytz in /usr/local/lib/python3.6/dist-packages (from datefinder-lexpredict==0.6.2->lexnlp) (2018.9)\n",
            "Requirement already satisfied: certifi>=2017.4.17 in /usr/local/lib/python3.6/dist-packages (from requests==2.22.0->lexnlp) (2019.11.28)\n",
            "Requirement already satisfied: urllib3!=1.25.0,!=1.25.1,<1.26,>=1.21.1 in /usr/local/lib/python3.6/dist-packages (from requests==2.22.0->lexnlp) (1.24.3)\n",
            "Requirement already satisfied: chardet<3.1.0,>=3.0.2 in /usr/local/lib/python3.6/dist-packages (from requests==2.22.0->lexnlp) (3.0.4)\n",
            "Requirement already satisfied: idna<2.9,>=2.5 in /usr/local/lib/python3.6/dist-packages (from requests==2.22.0->lexnlp) (2.8)\n",
            "Requirement already satisfied: jellyfish==0.5.6 in /usr/local/lib/python3.6/dist-packages (from us==1.0.0->lexnlp) (0.5.6)\n",
            "Requirement already satisfied: tzlocal in /usr/local/lib/python3.6/dist-packages (from dateparser==0.7.0->lexnlp) (1.5.1)\n",
            "Requirement already satisfied: boto3 in /usr/local/lib/python3.6/dist-packages (from smart-open>=1.2.1->gensim==3.4.0->lexnlp) (1.11.15)\n",
            "Requirement already satisfied: boto>=2.32 in /usr/local/lib/python3.6/dist-packages (from smart-open>=1.2.1->gensim==3.4.0->lexnlp) (2.49.0)\n",
            "Requirement already satisfied: botocore<1.15.0,>=1.14.15 in /usr/local/lib/python3.6/dist-packages (from boto3->smart-open>=1.2.1->gensim==3.4.0->lexnlp) (1.14.15)\n",
            "Requirement already satisfied: s3transfer<0.4.0,>=0.3.0 in /usr/local/lib/python3.6/dist-packages (from boto3->smart-open>=1.2.1->gensim==3.4.0->lexnlp) (0.3.3)\n",
            "Requirement already satisfied: jmespath<1.0.0,>=0.7.1 in /usr/local/lib/python3.6/dist-packages (from boto3->smart-open>=1.2.1->gensim==3.4.0->lexnlp) (0.9.4)\n",
            "Requirement already satisfied: docutils<0.16,>=0.10 in /usr/local/lib/python3.6/dist-packages (from botocore<1.15.0,>=1.14.15->boto3->smart-open>=1.2.1->gensim==3.4.0->lexnlp) (0.15.2)\n"
          ],
          "name": "stdout"
        }
      ]
    },
    {
      "cell_type": "code",
      "metadata": {
        "id": "RfkjYKViZzsI",
        "colab_type": "code",
        "outputId": "c9d16407-d769-4196-8846-c652aaa2774c",
        "colab": {
          "base_uri": "https://localhost:8080/",
          "height": 185
        }
      },
      "source": [
        "import nltk\n",
        "nltk.download('punkt')\n",
        "nltk.download('averaged_perceptron_tagger')\n",
        "nltk.download('wordnet')"
      ],
      "execution_count": 134,
      "outputs": [
        {
          "output_type": "stream",
          "text": [
            "[nltk_data] Downloading package punkt to /root/nltk_data...\n",
            "[nltk_data]   Package punkt is already up-to-date!\n",
            "[nltk_data] Downloading package averaged_perceptron_tagger to\n",
            "[nltk_data]     /root/nltk_data...\n",
            "[nltk_data]   Package averaged_perceptron_tagger is already up-to-\n",
            "[nltk_data]       date!\n",
            "[nltk_data] Downloading package wordnet to /root/nltk_data...\n",
            "[nltk_data]   Package wordnet is already up-to-date!\n"
          ],
          "name": "stdout"
        },
        {
          "output_type": "execute_result",
          "data": {
            "text/plain": [
              "True"
            ]
          },
          "metadata": {
            "tags": []
          },
          "execution_count": 134
        }
      ]
    },
    {
      "cell_type": "code",
      "metadata": {
        "id": "3a9WU-nveYSh",
        "colab_type": "code",
        "colab": {
          "base_uri": "https://localhost:8080/",
          "height": 56
        },
        "outputId": "0c3d4e28-e5aa-4812-df9f-c10ceea718f6"
      },
      "source": [
        "t = open('Inclass4.txt').read()\n",
        "t"
      ],
      "execution_count": 135,
      "outputs": [
        {
          "output_type": "execute_result",
          "data": {
            "text/plain": [
              "'\\n5 Ala. 740\\nSupreme Court of Alabama.\\nADAMS\\nv.\\nTANNER AND HORTON.\\nJune Term, 1843.\\nSynopsis\\nWRIT of Error to the Circuit Court of Sumter.\\n\\xa0\\n\\n\\nWest Headnotes (2)\\n\\n\\n[1]\\nChattel Mortgages\\nCrops\\nA growing crop has such an existence as to be the subject-matter of a mortgage or other contract which passes an interest to vest in possession, either immediately or at a future time.\\n4 Cases that cite this headnote\\n\\n[2]\\nCreditors’ Remedies\\nLien and Priority\\nUnder St.1821, prohibiting a levy on a crop until it has been gathered, no lien attaches in favor of a fi. fa. on a growing crop, nor does such lien attach until after the crop has been gathered.\\n5 Cases that cite this headnote\\n\\n**1 This was a trial of the right of property under the statute. In November, 1840, an execution issued from the circuit court of Sumter, at the suit of the plaintiff in error, requiring the sheriff of that county, to make of the goods, &c., of Allen Harrison and others, the sum of thirty-seven hundred and seventy-seven 80-100 dollars, besides costs. This execution was levied on thirty bales of cotton, as the property of Allen Harrison, which was claimed, and a bond given to try the right. An issue was made up to try the question of the liability of the cotton to the plaintiff’s execution, and submitted to a jury. On the trial, a bill of exceptions was sealed at the instance of the plaintiff. The plaintiff proved that he recovered his judgment in October, 1839; that an execution *741 was issued thereon on the 7th Nov. thereafter, and that alias and pluries fieri facias’, issued regularly up to the time levy was made; that the cotton levied on was growed on the plantation of Harrison, and cultivated by the hands in his service. It was proved by the claimants, by the production of a written contract, that Harrison, on the twenty-second of May, 1840, in consideration that the claimants were involved, as indorsers for Burton & Harrison of Sumter county, and were then exposed to an execution, amounting to upwards of fourteen thousand dollars, bargained and sold to the claimants all his growing crop of cotton &c., consisting of one hundred and twenty acres, &c. Allen Harrison promised and obliged himself to give up his crop to the use of the claimants at any time to save them from suffering as his indorsers; if the crop matured and was gathered he undertook to deliver the cotton in Gainesville. The claimants came from Tennessee, (where they resided) about the first of September, 1840, bringing with them three or four white laborers, and took possession of the crop and slaves, and with the latter, and white laborers, gathered the cotton, prepared it for market, and when levied on, it was in a ware-house in Gainesville. The plaintiff then proved by Harrison, that the claimants took possession of the crop, while he was absent, and disposed of it without his consent. It was admitted, that the contract was made in good faith.\\nThe court charged the jury, that the plaintiff had no lien by virtue of his judgment, and execution on the growing crop; that Harrison had a right to convey it, without being in any manner restrained by them; that the writing adduced, was a sale of the crop, but if it was not, and the lien of the fieri facias would have attached upon it, when gathered, yet if the claimants obtained possession on the first of September, and controlled the gathering of the crop, then no lien attached, and it was not subject to the levy.\\nAttorneys and Law Firms\\nR. H. SMITH, for the plaintiff, in error, made the following points.--1. The crop of Harrison, must, in May, 1840, have been in an immature state, and it is insisted, was not the subject of a sale. 2. By the common law, a growing crop could be levied on and sold, [1 Salk. Rep. 361; 1 Bos. & P. Rep. 307; 6 East’s Rep. 604, note 1; 2 Johns. Rep. 418, 422; 7 Mass. Rep. 34,] and our statue, [[[Aik. Dig. § 41, p. 167,] which forbids the levy of an *742 execution on a growing crop, is to receive a strict construction. It merely inhibits the levy, but the lien attaches, and a levy and sale may be made after the crop matures, and is gathered. 3. The contract does not purport to convey the growing crop, but is a mere executory agreement, requiring some act to be done by Harrison, in order to invest the claimants with the right of property. [Chit. on Con. 112, 207; 3 Johns. Rep. 338, 424; 5 Wend. Rep. 26; 13 Johns. Rep. 235; 8 Dowl. Rep, 693;] and until this act was done, the crop, no matter by who gathered, because liable to be seized for Harrison’s debts. A court of chancery would not compel a specific performance of the contract at the claimant’s instance. 4. The charge of the court is also objectionable in deciding disputed facts.\\nW. M. MURPHY, with whom was W. G. JONES, for the defendant--cited the act of 1821, [Aik. Dig. 167,] which declares it to be lawful to levy an execution on a planted crop, until it is gathered, and contended that no lien attached in favor of the plaintiff. This being the case, the defendant in execution was not restrained from making the contract which he did with the claimants.\\n**2 The lien of an execution is destroyed by an injunction, because it takes away the right to levy it. In short, whenever the right to levy an execution is but temporarily suspended, or withdrawn, the lien is during that time lost. [[[[Whipple v. Foot, 2 Johns. Rep. 216; 3 Wash. C. C. Rep. 66; 4 How. Rep. 130.]\\nIt is admitted that the contract between the defendant in execution, and the claimants, was in good faith, if so, the severance and removal of the cotton gave the latter a good title against all creditors of the former.\\nOpinion\\n\\nCOLLIER, C. J.\\n\\nThere can be no doubt that a growing crop has such an existence as to be the subject matter of a sale, mortgage, or other contract which possess an interest to vest in possession, either immediately or at some future time. This proposition has frequently been assumed as unquestionable; the point of inquiry generally being, whether under a statute of frauds, such as the 29 Chas. 2, it is a mere chattel, and transferrable by parol without writing. [Chitty on Con. 241-2, 332; Whipple v. Foot, 2 Johns. Rep. 422; Stewart v. Doughty, 9 Johns. Rep. 112; *743 Austin v. Sawyer, 9 Cow. Rep. 39. See also Ravesies v. Lee & Alston, at last term.] The contract set out in the bill of exceptions, we are inclined to think evidences rather a mortgage than an absolute sale. It recites that the claimants are involved as indorsers of a mercantile firm, of which the defendant was a partner; that an execution for upwards of fourteen thousand dollars against their estate, is in the sheriff’s hands, and that a conveyance is made of the crop of cotton, corn and oats, which the grantor agrees to give up at any time to the use of the claimants, so as to prevent injury to them as indorsers. The defendant in execution might at any time have divested the interest which the contract vested in the claimants, by discharging their liability as his indorsers, or a judgment creditor might have satisfied the lien, and when the crop was gathered, have levied on, and sold it under a fieri facias.\\nWe will then consider the writing under which the claimants assert a right, as a mortgage with a power to take possession any time during the year, unless they should be relieved from their engagements as indorsers. It is not pretended that their liability has been satisfied, and it is admitted that the parties have acted with good faith, so that it is a dry question of law, whether the right of the plaintiff, or the claimants shall prevail. Assuming for the present that the execution of the plaintiffs did not operate a lien upon the planted crop previous to the contract of May, 1840, we will inquire whether the defendant in execution had such an interest as could be levied on and sold.\\nThe claimants had previous to the levy of the execution taken possession of the crop, prepared the cotton for market, and removed it to a ware-house. This possession, it is insisted, was a trespass, because it was acquired in the absence of the defendant in execution, and without his consent then given. Conceding the truth of the facts stated in the bill of exceptions, and we think it will not follow, that the possession of the claimants is a nullity, and that the case must be considered as if they had never interfered with the crop. The contract contains an express undertaking to give up the crop at any time the claimants might require it for their indemnity, and if they took possession of it in the absence of the grantor, (though without his consent,) if he subsequently acquiesced in it, the inference would be, if necessary, that their acts were approved by him. Taking this to be clear *744 law, and it will be seen, that the defendant in execution at the time of the levy had nothing more than a mere equitable right to redeem the cotton by paying the debts indorsed by the claimants. He had no possession coupled with this equity, but only a naked equity, which it has been held cannot be reached by an ordinary execution. [Perkins and Elliott v. Mayfield, 5 Porter’s Rep. 182.]\\n**3 This brings us back to the question, whether the execution of the plaintiff was a lien on the growing crop, so as to defeat the mortgage to the claimants. It has been frequently mooted whether, at common law, corn, &c., before it is gathered, can be seized under a fieri facias. Mr. Dane, in remarking upon this point, says, “The American editor of Bacon’s Abridgment, says, ‘Wheat growing in the ground is a chattel, and subject to be taken in execution; and the sheriff may suffer it to grow till harvest, and then cut and sell it; or may perhaps sell it growing, and the purchaser will then be entitled to enter, for the purpose of cutting and carrying it away.” [He cites Whipple v. Foot, ut supra, also Poole’s case, Salk. 368; 1 Bos. & P. 397; 6 East, 604, n.] But Whipple v. Foot seems to be the only case that supports his position, that unripe wheat or corn may be taken in execution; and the same editor states that nothing can be taken in execution which cannot be sold. This position, says the learned commentator, is no doubt law. But it is unnecessary to consider how this matter stands at common law. The first section of the act of 1821, “To prevent sheriffs and other officers from levying executions in certain cases, enacts, that “It shall not be lawful for any sheriff or other officer, to levy a writ of fieri facias or other execution on the planted crop of a debtor, or person against whom an execution may issue, until the crop is gathered.” [Aik. Dig. 167.] Now here is an express inhibition to levy an execution on a crop while it remains on, or in the ground, and until it is severed from the soil to which it owes its growth. In respect to property thus situated, will the lien of an execution attach eo instanti upon its being placed in the hands of an officer? If so, the act cited, will only have the effect of keeping the right to levy it in abeyance until the crop is gathered. The lien of an execution does, not only operate so as to prevent the debtor from disposing of the property on which it attaches, but gives to the creditor the right to have it sold to satisfy his *745 judgment. The lien and the right to levy are intimately connected, and if the latter be taken away, or suspended, the effect, at common law, is the destruction of the former. This principle is fully established by Mansony and Hurtell v. The President, &c. of the Bank of the United States, and its assignees, and the citations contained in the opinion of the court in that case, as also in my opinion in Wood v. Gary, et al., both decided at the last term. That it was competent for the legislature to have made it unlawful to levy an execution on particular property, until its condition was changed, and still to give it a continuing lien, cannot be doubted; but there is nothing in the act in question to indicate that such is its intention. If the object was merely to suspend the sale, until the crop was gathered, it would have been very easy to have said so in explicit terms, but declaring as the statute does, in totidem verbis, that the execution shall not be levied, the legislature must be supposed to have meant what they have expressed. The act was induced by the doubts which existed as to what was the common law, and was intended to remove those doubts by declaring what should be the law in future. It does not create a lien or authorize a levy in a case in which the law, as it then existed, was silent. The idea that the lien attached upon the planted crop as soon as the execution was delivered to the sheriff, though the right to levy it was postponed until a severance took place, is attempted to be deduced from the last words of the section cited, viz: “until the crop is gathered.” These words cannot, upon any just principles of construction be regarded so potent as to give to an execution a retrospective effect. They do not refer to the lien, if they did they would postpone it until the crop was gathered; but it is the levy they relate to and postpone until that event takes place.\\n**4 The right to levy an execution on a planted crop, then, being expressly taken away by the statute, the lien which is connected with and consequent upon that right, never attaches until severance. This being the case, the right of the defendant in execution to make the contract which he did, is unquestionable, and the title of the claimants, coupled as it was with the possession, was paramount to any lien which the execution could exert.\\nThe circuit judge may have mistaken the law in supposing that the contract was a sale, but if he did, an error in that respect was very immaterial, for whether a sale or mortgage, as we have *746 seen, under the facts of the case, the defendant in execution has no interest that could be seised and sold under execution. There is no assumption of any material fact in the charge; but the possession of the claimant, the time when acquired, the gathering of the crop, &c., are all referred to the determination of the jury; who are instructed, if they find them according to the evidence adduced, that no lien ever attached in favor of the plaintiff. The bona fides of the contract was conceded, so that no charge was necessary on that point, and it could not with propriety enter into the inquiry of the jury.\\nIt results from what has been said, that the judgment of the circuit court is affirmed.\\n\\nDISSENTING OPINION.\\n\\nORMOND, J.\\n**4 The statute which presents the question before the court is, that “it shall not be lawful for any sheriff or other officer to levy a writ of fieei facias or other execution, on the planted crop of a debtor, or person against whom an execution may issue, until the crop is gathered.” [Clay’s Dig. 210, § 46.]\\nI shall not enter upon the enquiry, whether, at common law, an execution could be levied upon a growing crop, though I apprehend, it would not be difficult to maintain the affirmative of the proposition. It is sufficient for my purpose, that the statute supposes such to have been the law, as it doubtless was the practice.\\nThis act must be considered in connection with the other acts upon the same subject. The policy of the State, as indicated by these statutes, is undeniably that all the property of a debtor, real and personal, to which he has a legal title, shall be subject to sale by execution, and it appears to me that it would be difficult to assign a reason for the exemption of this species of property from the claims of judgment creditors, and for giving to the defendant in execution the right to dispose of it. It appears to me, with all deference, that the argument that because the sheriff was prohibited from levying on a ““planted crop,” that therefore the execution had lost its lien, and the debtor had the right to sell it, is a non sequitur. The mischief which the statute designed to remedy was, the sacrifice which would be necessarily made by the sale of an immature crop: the statute enables the debtor to retain it until it matures, and by severing it from the soil to put it *747 in a condition to bring its value--the lien in the mean time continuing in the plaintiff in execution.\\n**5 If further confirmation of the correctness of this view were necessary, it will be found, I think, in the language employed by the legislature. The sheriff is forbidden to levy on a “planted crop” until the crop is gathered. Now, if the view taken by the majority of the court, is correct, the right secured to the plaintiff in execution, of levying on the crop after it is gathered, may be frustrated, as it was in this case, by a sale by the defendant in execution, whilst the crop is in an immature state. The construction which has been put upon the statute, involves the singular anomaly, that the legislature, for the protection of the debtor, has forbidden the plaintiff in execution to sell the property of his debtor, because it is not in a condition to bring its value, and yet permits the debtor, voluntarily, by a sale, to submit to the same sacrifice, for his own benefit. It is, in effect, a gift to the defendant in execution, of the growing crop, provided he does not gather it himself, but disposes of it in its then condition. This, I feel a thorough conviction, was not the intention of the legislature; but that it was to secure him from loss, by prohibiting a levy and sale of the crop, until it was gathered, when the temporary suspension of the right to sell, ceased.\\nAll Citations\\n5 Ala. 740, 1843 WL 284\\nEnd of Document\\n© 2019 Thomson Reuters. No claim to original U.S. Government Works.\\nCiting References (9)\\nTreatment\\nTitle\\nDate\\nType\\nDepth\\nHeadnote(s)\\nCited by\\n1.  Booker v. Jones’s Adm’x\\n55 Ala. 266, 271 , Ala.\\nTrover for Conversion of Cotton, with Counts in Case. APPEAL from the Circuit Court of Hale. Tried before the Hon. M. J. SAFFOLD.\\nDec Term 1876\\nCase\\n—\\nCited by\\n2.  Lehman, Durr & Co. v. Marshall\\n47 Ala. 362, 376 , Ala.\\n[TROVER FOR CONVERSION OF COTTON.] APPEAL from the City Court of Montgomery. Tried before Hon. JOHN D. CUNNINGHAM.\\nJan Term 1872\\nCase\\n—\\nCited by\\n3.  Bibb v. Janney\\n45 Ala. 329, 334 , Ala.\\n[GARNISHMENT; WAGES; WAIVER OF EXEMPTION.] APPEAL from City Court of Montgomery. Tried before Hon. JOHN D. CUNNINGHAM.\\nJan Term 1871\\nCase\\n—\\nCited by\\n4.  McKenzie v. Lampley\\n31 Ala. 526, 527 , Ala.\\n[TRIAL OF RIGHT OF PROPERTY IN COTTON.] APPEAL from the Circuit Court of Barbour. Tried before the Hon. S. D. HALE.\\nJan Term 1858\\nCase\\n—\\nCited by\\n5.  Evans v. Lamar\\n21 Ala. 333, 335+ , Ala.\\nERROR to the Circuit Court of Autauga. Tried before the Hon. A. B. MOORE.\\nJun Term 1852\\nCase\\n—\\nCited by\\n 6.  Dewey v. Bowman\\n8 Cal. 145, 147 , Cal.\\nThe judgment of the Court below, against Jacob S. Cohen, should be reversed, for the following reasons: Because the finding of the Court was, so far as Cohen was concerned,...\\nJul Term 1857\\nCase\\n—\\nMentioned by\\n7.  Rees v. Coats\\n65 Ala. 256, 258 , Ala.\\nTrover for Conversion of Three Bales of Cotton. APPEAL from the Circuit Court of Etowah. Tried before the Hon. WM. L. WHITLOCK.\\nNov Term 1880\\nCase\\n—\\nMentioned by\\n8.  Edwards v. Thompson\\n4 S.W. 913, 914 , Tenn.\\nAppeal from circuit court, Weakley county.\\nMay 1887\\nCase\\n—\\n—\\n9.  Growing crops as subject to levy and seizure under attachment or execution\\n103 A.L.R. 464\\nGenerally, at common law, growing crops raised by annual planting, while still attached to the soil, are regarded as personal chattels, subject to levy and seizure under attachment...\\n1936\\nALR\\n—\\n—\\nTable of Authorities (3)\\nTreatment\\nReferenced Title\\nType\\nDepth\\nQuoted\\nPage Number\\nMentioned\\n1.  Austin v. Sawyer\\n9 Cow. 39, N.Y.Sup., 1828\\nParol evidence is not admissible to contradict, or substantially vary, a written contract. And where A. quit-claimed land to W., on which a crop of wheat was growing, reserving the...\\nCase\\n2\\nCited\\n 2.  Perkins v. Mayfield\\n5 Port. 182, Ala., 1837\\nOn writ of error to the Circuit Court of Tuskaloosa.\\nCase\\n2+\\nMentioned\\n3.  Stewart v. Doughty\\n9 Johns. 108, N.Y.Sup., 1812\\nA. let to B. a farm for six years, and A. agreed “to render, yield and pay to A. the one half of all the wheat, rye, corn and other grain, raised on the farm in each year, in the...\\nCase\\n2\\nFilings\\nThere are no Filings for this citation.\\nNegative Treatment\\nThere are no Negative Treatment results for this citation.\\nHistory\\nThere are no History results for this citation.\\n'"
            ]
          },
          "metadata": {
            "tags": []
          },
          "execution_count": 135
        }
      ]
    },
    {
      "cell_type": "code",
      "metadata": {
        "id": "XNC74tQrWnAM",
        "colab_type": "code",
        "outputId": "d1a6d2fc-cf01-4791-a7af-f2c6787d3d6e",
        "colab": {
          "base_uri": "https://localhost:8080/",
          "height": 36
        }
      },
      "source": [
        "import lexnlp.extract.en.acts\n",
        "print(lexnlp.extract.en.acts.get_act_list(t))"
      ],
      "execution_count": 136,
      "outputs": [
        {
          "output_type": "stream",
          "text": [
            "[]\n"
          ],
          "name": "stdout"
        }
      ]
    },
    {
      "cell_type": "code",
      "metadata": {
        "id": "qc7NtJrLx5tS",
        "colab_type": "code",
        "outputId": "d8b55a79-898c-432f-f217-ac92aa558497",
        "colab": {
          "base_uri": "https://localhost:8080/",
          "height": 1000
        }
      },
      "source": [
        "import lexnlp.extract.en.amounts\n",
        "list(lexnlp.extract.en.amounts.get_amounts(t))\n"
      ],
      "execution_count": 137,
      "outputs": [
        {
          "output_type": "execute_result",
          "data": {
            "text/plain": [
              "[5.0,\n",
              " 740.0,\n",
              " 1843.0,\n",
              " 2.0,\n",
              " 1.0,\n",
              " 4.0,\n",
              " 2.0,\n",
              " 1821.0,\n",
              " 5.0,\n",
              " 1.0,\n",
              " 1840.0,\n",
              " 3777,\n",
              " 80.0,\n",
              " 100.0,\n",
              " 30,\n",
              " 1839.0,\n",
              " 741.0,\n",
              " 22,\n",
              " 1840.0,\n",
              " 14000,\n",
              " 120,\n",
              " 1,\n",
              " 1840.0,\n",
              " 3,\n",
              " 4,\n",
              " 1,\n",
              " 1.0,\n",
              " 1840.0,\n",
              " 2.0,\n",
              " 1.0,\n",
              " 361.0,\n",
              " 1.0,\n",
              " 307.0,\n",
              " 6.0,\n",
              " 604.0,\n",
              " 1.0,\n",
              " 2.0,\n",
              " 418.0,\n",
              " 422.0,\n",
              " 7.0,\n",
              " 34.0,\n",
              " 41.0,\n",
              " 167.0,\n",
              " 742.0,\n",
              " 3.0,\n",
              " 112.0,\n",
              " 207.0,\n",
              " 3.0,\n",
              " 338.0,\n",
              " 424.0,\n",
              " 5.0,\n",
              " 26.0,\n",
              " 13.0,\n",
              " 235.0,\n",
              " 8.0,\n",
              " 693.0,\n",
              " 4.0,\n",
              " 1821.0,\n",
              " 167.0,\n",
              " 2.0,\n",
              " 2.0,\n",
              " 216.0,\n",
              " 3.0,\n",
              " 66.0,\n",
              " 4.0,\n",
              " 130.0,\n",
              " 29.0,\n",
              " 2.0,\n",
              " 241.0,\n",
              " 2.0,\n",
              " 332.0,\n",
              " 2.0,\n",
              " 422.0,\n",
              " 9.0,\n",
              " 112.0,\n",
              " 743.0,\n",
              " 9.0,\n",
              " 39.0,\n",
              " 14000,\n",
              " 1840.0,\n",
              " 744.0,\n",
              " 5.0,\n",
              " 182.0,\n",
              " 3.0,\n",
              " 368.0,\n",
              " 1.0,\n",
              " 397.0,\n",
              " 6.0,\n",
              " 604.0,\n",
              " 1,\n",
              " 1821.0,\n",
              " 167.0,\n",
              " 745.0,\n",
              " 4.0,\n",
              " 746.0,\n",
              " 4.0,\n",
              " 210.0,\n",
              " 46.0,\n",
              " 747.0,\n",
              " 5.0,\n",
              " 5.0,\n",
              " 740.0,\n",
              " 1843.0,\n",
              " 284.0,\n",
              " 2019.0,\n",
              " 9.0,\n",
              " 1.0,\n",
              " 55.0,\n",
              " 266.0,\n",
              " 271.0,\n",
              " 1876.0,\n",
              " 2.0,\n",
              " 47.0,\n",
              " 362.0,\n",
              " 376.0,\n",
              " 1872.0,\n",
              " 3.0,\n",
              " 45.0,\n",
              " 329.0,\n",
              " 334.0,\n",
              " 1871.0,\n",
              " 4.0,\n",
              " 31.0,\n",
              " 526.0,\n",
              " 527.0,\n",
              " 1858.0,\n",
              " 5.0,\n",
              " 21.0,\n",
              " 333.0,\n",
              " 335.0,\n",
              " 1852.0,\n",
              " 6.0,\n",
              " 8.0,\n",
              " 145.0,\n",
              " 147.0,\n",
              " 1857.0,\n",
              " 7.0,\n",
              " 65.0,\n",
              " 256.0,\n",
              " 258.0,\n",
              " 3,\n",
              " 1880.0,\n",
              " 8.0,\n",
              " 4.0,\n",
              " 913.0,\n",
              " 914.0,\n",
              " 1887.0,\n",
              " 9.0,\n",
              " 103.0,\n",
              " 464.0,\n",
              " 1936.0,\n",
              " 3.0,\n",
              " 1.0,\n",
              " 9.0,\n",
              " 39.0,\n",
              " 1828.0,\n",
              " 2.0,\n",
              " 2.0,\n",
              " 5.0,\n",
              " 182.0,\n",
              " 1837.0,\n",
              " 2.0,\n",
              " 3.0,\n",
              " 9.0,\n",
              " 108.0,\n",
              " 1812.0,\n",
              " 6,\n",
              " 1,\n",
              " 2.0]"
            ]
          },
          "metadata": {
            "tags": []
          },
          "execution_count": 137
        }
      ]
    },
    {
      "cell_type": "code",
      "metadata": {
        "id": "DVIfLdxEhHqk",
        "colab_type": "code",
        "outputId": "c0cd02c6-b2ac-4a41-b049-273ba6ad078e",
        "colab": {
          "base_uri": "https://localhost:8080/",
          "height": 56
        }
      },
      "source": [
        "import lexnlp.extract.en.citations\n",
        "print(list(lexnlp.extract.en.citations.get_citations(t)))"
      ],
      "execution_count": 138,
      "outputs": [
        {
          "output_type": "stream",
          "text": [
            "[(5, 'Ala.', 'Alabama Reports', 740, None, None, None), (5, 'Ala.', 'Alabama Reports', 740, '1843', None, None), (55, 'Ala.', 'Alabama Reports', 266, '271', None, None), (47, 'Ala.', 'Alabama Reports', 362, '376', None, None), (45, 'Ala.', 'Alabama Reports', 329, '334', None, None), (31, 'Ala.', 'Alabama Reports', 526, '527', None, None), (21, 'Ala.', 'Alabama Reports', 333, '335', None, None), (8, 'Cal.', 'California Reports', 145, '147', None, None), (65, 'Ala.', 'Alabama Reports', 256, '258', None, None), (4, 'S.W.', 'South Western Reporter', 913, '914', None, None), (103, 'A.L.R.', 'American Law Reports', 464, None, None, None), (9, 'Cow.', \"Cowen's Reports\", 39, None, None, None), (5, 'Port.', 'Alabama Reports, Porter', 182, None, None, None), (9, 'Johns.', \"Johnson's Reports\", 108, None, None, None)]\n"
          ],
          "name": "stdout"
        }
      ]
    },
    {
      "cell_type": "code",
      "metadata": {
        "id": "401nxGbUaRal",
        "colab_type": "code",
        "outputId": "ffd2dbb1-6424-488f-9d47-e46c14067cdf",
        "colab": {
          "base_uri": "https://localhost:8080/",
          "height": 36
        }
      },
      "source": [
        "import lexnlp.extract.en.entities.nltk_re\n",
        "print(list(lexnlp.extract.en.entities.nltk_re.get_companies(t)))"
      ],
      "execution_count": 139,
      "outputs": [
        {
          "output_type": "stream",
          "text": [
            "[Lehman, Durr Co, (17983, 18001)]\n"
          ],
          "name": "stdout"
        }
      ]
    },
    {
      "cell_type": "code",
      "metadata": {
        "id": "a5CTQwiRh-UQ",
        "colab_type": "code",
        "outputId": "8cfce478-3568-46bc-9502-420dba9eb48f",
        "colab": {
          "base_uri": "https://localhost:8080/",
          "height": 56
        }
      },
      "source": [
        "import lexnlp.extract.en.conditions\n",
        "print(list(lexnlp.extract.en.conditions.get_conditions(t)))"
      ],
      "execution_count": 140,
      "outputs": [
        {
          "output_type": "stream",
          "text": [
            "[('until', '[2]\\nCreditors’ Remedies\\nLien and Priority\\nUnder St.1821, prohibiting a levy on a crop', ''), ('until', 'on a growing crop, nor does such lien attach', ''), ('if', 'It was proved by the claimants, by the production of a written contract, that Harrison, on the twenty-second of May, 1840, in consideration that the claimants were involved, as indorsers for Burton & Harrison of Sumter county, and were then exposed to an execution, amounting to upwards of fourteen thousand dollars, bargained and sold to the claimants all his growing crop of cotton &c., consisting of one hundred and twenty acres, &c. Allen Harrison promised and obliged himself to give up his crop to the use of the claimants at any time to save them from suffering as his indorsers;', ''), ('when', 'The claimants came from Tennessee, (where they resided) about the first of September, 1840, bringing with them three or four white laborers, and took possession of the crop and slaves, and with the latter, and white laborers, gathered the cotton, prepared it for market, and', ''), ('if', 'The court charged the jury, that the plaintiff had no lien by virtue of his judgment, and execution on the growing crop; that Harrison had a right to convey it, without being in any manner restrained by them; that the writing adduced, was a sale of the crop, but', ''), ('when', 'it was not, and the lien of the fieri facias would have attached upon it,', ''), ('if', 'gathered, yet', ''), ('not subject to', 'the claimants obtained possession on the first of September, and controlled the gathering of the crop, then no lien attached, and it was', ''), ('until', 'Rep, 693;] and', ''), ('until', '167,] which declares it to be lawful to levy an execution on a planted crop,', ''), ('if', 'It is admitted that the contract between the defendant in execution, and the claimants, was in good faith,', ''), ('when', 'The defendant in execution might at any time have divested the interest which the contract vested in the claimants, by discharging their liability as his indorsers, or a judgment creditor might have satisfied the lien, and', ''), ('unless', 'We will then consider the writing under which the claimants assert a right, as a mortgage with a power to take possession any time during the year,', ''), ('if', 'Conceding the truth of the facts stated in the bill of exceptions, and we think it will not follow, that the possession of the claimants is a nullity, and that the case must be considered as', ''), ('if', 'The contract contains an express undertaking to give up the crop at any time the claimants might require it for their indemnity, and', ''), ('if', 'they took possession of it in the absence of the grantor, (though without his consent,)', ''), ('if', 'he subsequently acquiesced in it, the inference would be,', ''), ('subject to', 'Mr. Dane, in remarking upon this point, says, “The American editor of Bacon’s Abridgment, says, ‘Wheat growing in the ground is a chattel, and', ''), ('until', 'The first section of the act of 1821, “To prevent sheriffs and other officers from levying executions in certain cases, enacts, that “It shall not be lawful for any sheriff or other officer, to levy a writ of fieri facias or other execution on the planted crop of a debtor, or person against whom an execution may issue,', ''), ('until', 'Now here is an express inhibition to levy an execution on a crop while it remains on, or in the ground, and', ''), ('until', 'If so, the act cited, will only have the effect of keeping the right to levy it in abeyance', ''), ('if', 'The lien and the right to levy are intimately connected, and', ''), ('until', 'That it was competent for the legislature to have made it unlawful to levy an execution on particular property,', ''), ('until', 'If the object was merely to suspend the sale,', ''), ('as soon as', 'The idea that the lien attached upon the planted crop', ''), ('until', 'the execution was delivered to the sheriff, though the right to levy it was postponed', ''), ('if', 'They do not refer to the lien,', ''), ('until', 'they did they would postpone it', ''), ('until', 'the crop was gathered; but it is the levy they relate to and postpone', ''), ('until', '**4 The right to levy an execution on a planted crop, then, being expressly taken away by the statute, the lien which is connected with and consequent upon that right, never attaches', ''), ('if', 'The circuit judge may have mistaken the law in supposing that the contract was a sale, but', ''), ('when', 'There is no assumption of any material fact in the charge; but the possession of the claimant, the time', ''), ('if', 'acquired, the gathering of the crop, &c., are all referred to the determination of the jury; who are instructed,', ''), ('until', '**4 The statute which presents the question before the court is, that “it shall not be lawful for any sheriff or other officer to levy a writ of fieei facias or other execution, on the planted crop of a debtor, or person against whom an execution may issue,', ''), ('subject to', 'The policy of the State, as indicated by these statutes, is undeniably that all the property of a debtor, real and personal, to which he has a legal title, shall be', ''), ('until', 'The mischief which the statute designed to remedy was, the sacrifice which would be necessarily made by the sale of an immature crop: the statute enables the debtor to retain it', ''), ('if', '**5', ''), ('until', 'The sheriff is forbidden to levy on a “planted crop”', ''), ('if', 'Now,', ''), ('until', 'This, I feel a thorough conviction, was not the intention of the legislature; but that it was to secure him from loss, by prohibiting a levy and sale of the crop,', ''), ('when', 'it was gathered,', ''), ('subject to', 'Growing crops as', ''), ('subject to', '464\\nGenerally, at common law, growing crops raised by annual planting, while still attached to the soil, are regarded as personal chattels,', ''), ('where', 'And', '')]\n"
          ],
          "name": "stdout"
        }
      ]
    },
    {
      "cell_type": "code",
      "metadata": {
        "id": "94C4QrmGkde1",
        "colab_type": "code",
        "outputId": "46e85749-a382-4bf6-97e8-13a5c06837e7",
        "colab": {
          "base_uri": "https://localhost:8080/",
          "height": 579
        }
      },
      "source": [
        "import lexnlp.extract.en.constraints\n",
        "list(lexnlp.extract.en.constraints.get_constraints(t))"
      ],
      "execution_count": 141,
      "outputs": [
        {
          "output_type": "execute_result",
          "data": {
            "text/plain": [
              "[('after', 'on a growing crop, nor does such lien attach until', ''),\n",
              " ('after',\n",
              "  '',\n",
              "  ' and that alias and pluries fieri facias’, issued regularly up to the time levy was made; that the cotton levied on was growed on the plantation of harrison, and cultivated by the hands in his service.'),\n",
              " ('first of',\n",
              "  'the claimants came from tennessee, (where they resided) about the',\n",
              "  ''),\n",
              " ('first of',\n",
              "  'the court charged the jury, that the plaintiff had no lien by virtue of his judgment, and execution on the growing crop; that harrison had a right to convey it, without being in any manner restrained by them; that the writing adduced, was a sale of the crop, but if it was not, and the lien of the fieri facias would have attached upon it, when gathered, yet if the claimants obtained possession on the',\n",
              "  ''),\n",
              " ('after',\n",
              "  'it merely inhibits the levy, but the lien attaches, and a levy and sale may be made',\n",
              "  ''),\n",
              " ('more than',\n",
              "  'taking this to be clear *744 law, and it will be seen, that the defendant in execution at the time of the levy had nothing',\n",
              "  ''),\n",
              " ('before',\n",
              "  'it has been frequently mooted whether, at common law, corn, &c.,',\n",
              "  ''),\n",
              " ('before', '**4 the statute which presents the question', ''),\n",
              " ('after',\n",
              "  'now, if the view taken by the majority of the court, is correct, the right secured to the plaintiff in execution, of levying on the crop',\n",
              "  ''),\n",
              " ('before', 'tried', ''),\n",
              " ('before', 'tried', ''),\n",
              " ('before', 'tried', ''),\n",
              " ('before', 'tried', ''),\n",
              " ('before', 'tried', ''),\n",
              " ('before', 'tried', '')]"
            ]
          },
          "metadata": {
            "tags": []
          },
          "execution_count": 141
        }
      ]
    },
    {
      "cell_type": "code",
      "metadata": {
        "id": "j3kdRpHKlTQg",
        "colab_type": "code",
        "outputId": "27def12b-9db9-4a60-c063-3241411cdefe",
        "colab": {
          "base_uri": "https://localhost:8080/",
          "height": 36
        }
      },
      "source": [
        "import  lexnlp.extract.en.copyright\n",
        "print(list(lexnlp.extract.en.copyright.get_copyright(t)))"
      ],
      "execution_count": 142,
      "outputs": [
        {
          "output_type": "stream",
          "text": [
            "[('©', '2019', 'Thomson Reuters. No')]\n"
          ],
          "name": "stdout"
        }
      ]
    },
    {
      "cell_type": "code",
      "metadata": {
        "id": "pqpe19oXW4_N",
        "colab_type": "code",
        "outputId": "344205f2-a0a0-42b4-f703-0c262d8b9712",
        "colab": {
          "base_uri": "https://localhost:8080/",
          "height": 36
        }
      },
      "source": [
        "import lexnlp.extract.en.courts\n",
        "court_config_data = []\n",
        "print(list(lexnlp.extract.en.courts.get_courts(t,court_config_data)))"
      ],
      "execution_count": 143,
      "outputs": [
        {
          "output_type": "stream",
          "text": [
            "[]\n"
          ],
          "name": "stdout"
        }
      ]
    },
    {
      "cell_type": "code",
      "metadata": {
        "id": "wQ4dBTZnXwmU",
        "colab_type": "code",
        "outputId": "69523f2c-b6ad-44c7-8058-6ff22f4bc654",
        "colab": {
          "base_uri": "https://localhost:8080/",
          "height": 36
        }
      },
      "source": [
        "import lexnlp.extract.en.cusip\n",
        "print(lexnlp.extract.en.cusip.get_cusip(t))"
      ],
      "execution_count": 144,
      "outputs": [
        {
          "output_type": "stream",
          "text": [
            "<generator object get_cusip at 0x7f0134d8d4c0>\n"
          ],
          "name": "stdout"
        }
      ]
    },
    {
      "cell_type": "code",
      "metadata": {
        "id": "rs5kAChrXPLN",
        "colab_type": "code",
        "outputId": "c6274412-d8c1-4ad9-be07-a23cbfe174ef",
        "colab": {
          "base_uri": "https://localhost:8080/",
          "height": 56
        }
      },
      "source": [
        "import lexnlp.extract.en.dates\n",
        "print(list(lexnlp.extract.en.dates.get_dates(t)))"
      ],
      "execution_count": 145,
      "outputs": [
        {
          "output_type": "stream",
          "text": [
            "[datetime.date(2020, 6, 1), datetime.date(1840, 11, 1), datetime.date(1839, 10, 1), datetime.date(1840, 5, 1), datetime.date(1840, 9, 1), datetime.date(1840, 5, 1), datetime.date(1840, 5, 1), datetime.date(2020, 12, 1), datetime.date(2020, 12, 1), datetime.date(2020, 1, 1), datetime.date(2020, 1, 1), datetime.date(2020, 1, 1), datetime.date(2020, 3, 21), datetime.date(2020, 6, 1), datetime.date(2020, 7, 1), datetime.date(2020, 11, 1), datetime.date(1887, 5, 1)]\n"
          ],
          "name": "stdout"
        }
      ]
    },
    {
      "cell_type": "code",
      "metadata": {
        "id": "cYAv0_juYEPu",
        "colab_type": "code",
        "outputId": "266bbb18-9d7f-4337-bcf3-5d1233eccaf2",
        "colab": {
          "base_uri": "https://localhost:8080/",
          "height": 36
        }
      },
      "source": [
        "import lexnlp.extract.en.definitions\n",
        "print(list(lexnlp.extract.en.definitions.get_definitions(t)))"
      ],
      "execution_count": 146,
      "outputs": [
        {
          "output_type": "stream",
          "text": [
            "[]\n"
          ],
          "name": "stdout"
        }
      ]
    },
    {
      "cell_type": "code",
      "metadata": {
        "id": "IVrAl-01YX0L",
        "colab_type": "code",
        "outputId": "0512c346-1032-4fd3-bcd7-593d3c3aafa6",
        "colab": {
          "base_uri": "https://localhost:8080/",
          "height": 36
        }
      },
      "source": [
        "import lexnlp.extract.en.distances\n",
        "print(list(lexnlp.extract.en.distances.get_distances(t)))"
      ],
      "execution_count": 147,
      "outputs": [
        {
          "output_type": "stream",
          "text": [
            "[]\n"
          ],
          "name": "stdout"
        }
      ]
    },
    {
      "cell_type": "code",
      "metadata": {
        "id": "hAQ_KUWXYzlI",
        "colab_type": "code",
        "outputId": "9c179324-ff0c-4464-ca45-4f882f5724d3",
        "colab": {
          "base_uri": "https://localhost:8080/",
          "height": 36
        }
      },
      "source": [
        "import lexnlp.extract.en.durations\n",
        "print(list(lexnlp.extract.en.durations.get_durations(t)))"
      ],
      "execution_count": 148,
      "outputs": [
        {
          "output_type": "stream",
          "text": [
            "[('second', 20.0, 0.00023148148148148146), ('year', 6.0, 2190.0)]\n"
          ],
          "name": "stdout"
        }
      ]
    },
    {
      "cell_type": "code",
      "metadata": {
        "id": "ybu-OnUiY-iw",
        "colab_type": "code",
        "outputId": "90802561-3d73-4760-af6e-13e197749038",
        "colab": {
          "base_uri": "https://localhost:8080/",
          "height": 36
        }
      },
      "source": [
        "import lexnlp.extract.en.geoentities\n",
        "geo_config_list = []\n",
        "print(list(lexnlp.extract.en.geoentities.get_geoentities(t,geo_config_list)))"
      ],
      "execution_count": 149,
      "outputs": [
        {
          "output_type": "stream",
          "text": [
            "[]\n"
          ],
          "name": "stdout"
        }
      ]
    },
    {
      "cell_type": "code",
      "metadata": {
        "id": "jm4MsvsCZSot",
        "colab_type": "code",
        "outputId": "8c1bbad3-797c-4fd9-e61a-e0b45fa80032",
        "colab": {
          "base_uri": "https://localhost:8080/",
          "height": 36
        }
      },
      "source": [
        "import lexnlp.extract.en.money\n",
        "print(list(lexnlp.extract.en.money.get_money(t)))"
      ],
      "execution_count": 150,
      "outputs": [
        {
          "output_type": "stream",
          "text": [
            "[(100.0, 'USD'), (14000, 'USD'), (14000, 'USD')]\n"
          ],
          "name": "stdout"
        }
      ]
    },
    {
      "cell_type": "code",
      "metadata": {
        "id": "lgK5f_eNZ37A",
        "colab_type": "code",
        "outputId": "14010aa6-4d6e-4c5a-9a59-0ddddb4f7661",
        "colab": {
          "base_uri": "https://localhost:8080/",
          "height": 36
        }
      },
      "source": [
        "import lexnlp.extract.en.percents\n",
        "print(list(lexnlp.extract.en.percents.get_percents(t)))"
      ],
      "execution_count": 151,
      "outputs": [
        {
          "output_type": "stream",
          "text": [
            "[]\n"
          ],
          "name": "stdout"
        }
      ]
    },
    {
      "cell_type": "code",
      "metadata": {
        "id": "0j-6dtQnaHah",
        "colab_type": "code",
        "outputId": "6b1c326d-ac9a-40ca-d805-d09873f034f5",
        "colab": {
          "base_uri": "https://localhost:8080/",
          "height": 36
        }
      },
      "source": [
        "import lexnlp.extract.en.pii\n",
        "print(list(lexnlp.extract.en.pii.get_pii(t)))"
      ],
      "execution_count": 152,
      "outputs": [
        {
          "output_type": "stream",
          "text": [
            "[]\n"
          ],
          "name": "stdout"
        }
      ]
    },
    {
      "cell_type": "code",
      "metadata": {
        "id": "rFpsCueGaUR5",
        "colab_type": "code",
        "outputId": "1ab4edce-50ff-41b3-a1df-5d2e829bb05c",
        "colab": {
          "base_uri": "https://localhost:8080/",
          "height": 36
        }
      },
      "source": [
        "import lexnlp.extract.en.ratios\n",
        "print(list(lexnlp.extract.en.ratios.get_ratios(t)))"
      ],
      "execution_count": 153,
      "outputs": [
        {
          "output_type": "stream",
          "text": [
            "[]\n"
          ],
          "name": "stdout"
        }
      ]
    },
    {
      "cell_type": "code",
      "metadata": {
        "id": "1OfcBT7pagir",
        "colab_type": "code",
        "outputId": "493f412f-7e92-42c4-a594-544e259e004f",
        "colab": {
          "base_uri": "https://localhost:8080/",
          "height": 36
        }
      },
      "source": [
        "import lexnlp.extract.en.regulations\n",
        "print(list(lexnlp.extract.en.regulations.get_regulations(t)))"
      ],
      "execution_count": 154,
      "outputs": [
        {
          "output_type": "stream",
          "text": [
            "[]\n"
          ],
          "name": "stdout"
        }
      ]
    },
    {
      "cell_type": "code",
      "metadata": {
        "id": "ie_hfHOxazDM",
        "colab_type": "code",
        "outputId": "ca2fd499-a6f7-4bae-e800-d109a5794265",
        "colab": {
          "base_uri": "https://localhost:8080/",
          "height": 36
        }
      },
      "source": [
        "import lexnlp.extract.en.trademarks\n",
        "print(list(lexnlp.extract.en.trademarks.get_trademarks(t)))"
      ],
      "execution_count": 155,
      "outputs": [
        {
          "output_type": "stream",
          "text": [
            "[]\n"
          ],
          "name": "stdout"
        }
      ]
    },
    {
      "cell_type": "code",
      "metadata": {
        "id": "TtdK2oDba_6W",
        "colab_type": "code",
        "outputId": "97283480-9051-4224-eaac-6181de5f3870",
        "colab": {
          "base_uri": "https://localhost:8080/",
          "height": 36
        }
      },
      "source": [
        "import lexnlp.extract.en.urls\n",
        "print(list(lexnlp.extract.en.urls.get_urls(t)))"
      ],
      "execution_count": 156,
      "outputs": [
        {
          "output_type": "stream",
          "text": [
            "[]\n"
          ],
          "name": "stdout"
        }
      ]
    },
    {
      "cell_type": "code",
      "metadata": {
        "id": "alC0Q016bPWU",
        "colab_type": "code",
        "outputId": "91c609b3-2182-4cb8-d5c9-00a94c5a3ac2",
        "colab": {
          "base_uri": "https://localhost:8080/",
          "height": 1000
        }
      },
      "source": [
        "d = n(t)\n",
        "address = []\n",
        "persons = []\n",
        "for i in d.ents:\n",
        "   if i.label_=='ADDRESS':\n",
        "    address.append(i)\n",
        "   if i.label_ =='PERSON':\n",
        "    persons.append (i)\n",
        "print(address)\n",
        "print(set(persons))\n",
        "for i in d.ents:\n",
        "  print(i.text, i.start_char, i.end_char, i.label_)"
      ],
      "execution_count": 161,
      "outputs": [
        {
          "output_type": "stream",
          "text": [
            "[]\n",
            "{Stewart, C. J.\n",
            "\n",
            ", Marshall, Jan Term 1858, Evans, W. M. MURPHY, Jacob S. Cohen, Harrison, Chitty on Con, Austin, Attorneys, WRIT, Allen Harrison, Dane, Jan Term 1872, Jan Term 1871, Wheat, M. J. SAFFOLD, Stewart, Bibb, Cohen, Perkins, Dec Term 1876, Error, Jun Term 1852, Allen Harrison, Harrison, A. B. MOORE, S. D. HALE, Hurtell, JOHN D. CUNNINGHAM, R. H. SMITH, Chit, W. G. JONES, Austin, JOHN D. CUNNINGHAM, McKenzie, W., Sawyer, Jul Term, L. WHITLOCK, Allen Harrison, Doughty, Harrison, Booker, Citing References, Lien, Con, Janney, Bowman, Edwards, Referenced Title, Perkins, Mayfield, Sawyer}\n",
            "5 1 2 CARDINAL\n",
            "Supreme Court of Alabama 12 36 ORG\n",
            "ADAMS 38 43 ORG\n",
            "TANNER 47 53 ORG\n",
            "HORTON 58 64 ORG\n",
            "Synopsis 83 91 GPE\n",
            "WRIT 92 96 PERSON\n",
            "Error 100 105 PERSON\n",
            "the Circuit Court of Sumter 109 136 ORG\n",
            "2 158 159 CARDINAL\n",
            "1 164 165 CARDINAL\n",
            "Chattel 167 174 ORG\n",
            "4 376 377 CARDINAL\n",
            "2 410 411 CARDINAL\n",
            "Lien 433 437 PERSON\n",
            "5 647 648 CARDINAL\n",
            "1 682 683 CARDINAL\n",
            "November, 1840 748 762 DATE\n",
            "Sumter 810 816 ORG\n",
            "Allen Harrison 925 939 PERSON\n",
            "thirty-seven hundred and seventy-seven 963 1001 CARDINAL\n",
            "Allen Harrison 1105 1119 PERSON\n",
            "October, 1839 1437 1450 DATE\n",
            "741 1471 1474 CARDINAL\n",
            "7th 1501 1504 ORDINAL\n",
            "Harrison 1669 1677 GPE\n",
            "Harrison 1801 1809 GPE\n",
            "the twenty-second of May, 1840 1814 1844 DATE\n",
            "Burton & Harrison of Sumter county 1914 1948 ORG\n",
            "fourteen thousand dollars 2013 2038 MONEY\n",
            "one hundred and twenty acres 2126 2154 QUANTITY\n",
            "Allen Harrison 2160 2174 PERSON\n",
            "Gainesville 2385 2396 GPE\n",
            "Tennessee 2422 2431 GPE\n",
            "about the first of September, 1840 2454 2488 DATE\n",
            "three or four 2509 2522 CARDINAL\n",
            "Gainesville 2715 2726 GPE\n",
            "Harrison 2757 2765 PERSON\n",
            "Harrison 3061 3069 PERSON\n",
            "the first of September 3334 3356 DATE\n",
            "Attorneys 3459 3468 PERSON\n",
            "R. H. SMITH 3483 3494 PERSON\n",
            "Harrison 3568 3576 GPE\n",
            "May, 1840 3587 3596 DATE\n",
            "2 3681 3682 CARDINAL\n",
            "1 3748 3749 CARDINAL\n",
            "361 3761 3764 CARDINAL\n",
            "1 3766 3767 CARDINAL\n",
            "& P. 3773 3777 ORG\n",
            "307 3783 3786 CARDINAL\n",
            "6 3788 3789 CARDINAL\n",
            "604 3802 3805 CARDINAL\n",
            "1 3812 3813 CARDINAL\n",
            "2 3815 3816 CARDINAL\n",
            "Johns 3817 3822 ORG\n",
            "418 3829 3832 CARDINAL\n",
            "422 3834 3837 CARDINAL\n",
            "7 3839 3840 CARDINAL\n",
            "34 3852 3854 DATE\n",
            "41 3888 3890 CARDINAL\n",
            "167 3895 3898 CARDINAL\n",
            "742 3931 3934 CARDINAL\n",
            "3 4126 4127 CARDINAL\n",
            "Harrison 4255 4263 PERSON\n",
            "Chit 4327 4331 PERSON\n",
            "Con 4336 4339 PERSON\n",
            "112 4341 4344 CARDINAL\n",
            "207 4346 4349 CARDINAL\n",
            "3 4351 4352 CARDINAL\n",
            "Johns 4353 4358 ORG\n",
            "338 4365 4368 CARDINAL\n",
            "424 4370 4373 CARDINAL\n",
            "5 4375 4376 CARDINAL\n",
            "Wend 4377 4381 ORG\n",
            "26 4388 4390 CARDINAL\n",
            "13 4392 4394 CARDINAL\n",
            "Johns 4395 4400 ORG\n",
            "235 4407 4410 CARDINAL\n",
            "8 4412 4413 CARDINAL\n",
            "693 4425 4428 CARDINAL\n",
            "Harrison 4529 4537 GPE\n",
            "4 4651 4652 CARDINAL\n",
            "W. M. MURPHY 4728 4740 PERSON\n",
            "W. G. JONES 4756 4767 PERSON\n",
            "1821 4805 4809 DATE\n",
            "167 4822 4825 CARDINAL\n",
            "2 5111 5112 CARDINAL\n",
            "2 5363 5364 CARDINAL\n",
            "216 5377 5380 CARDINAL\n",
            "3 5382 5383 CARDINAL\n",
            "66 5401 5403 CARDINAL\n",
            "4 5405 5406 CARDINAL\n",
            "130 5417 5420 CARDINAL\n",
            "C. J.\n",
            "\n",
            " 5661 5668 PERSON\n",
            "the 29 Chas 6036 6047 ORG\n",
            "2 6049 6050 CARDINAL\n",
            "Chitty on Con 6119 6132 PERSON\n",
            "241 6134 6137 CARDINAL\n",
            "332 6141 6144 CARDINAL\n",
            "Whipple v. Foot 6146 6161 ORG\n",
            "2 6163 6164 CARDINAL\n",
            "422 6177 6180 CARDINAL\n",
            "Stewart 6182 6189 PERSON\n",
            "Doughty 6193 6200 PERSON\n",
            "9 6202 6203 CARDINAL\n",
            "112 6216 6219 CARDINAL\n",
            "743 6222 6225 CARDINAL\n",
            "Austin 6226 6232 PERSON\n",
            "Sawyer 6236 6242 PERSON\n",
            "9 6244 6245 CARDINAL\n",
            "39 6256 6258 CARDINAL\n",
            "Lee & Alston 6281 6293 ORG\n",
            "fourteen thousand dollars 6583 6608 MONEY\n",
            "the year 7288 7296 DATE\n",
            "May, 1840 7731 7740 DATE\n",
            "744 8748 8751 CARDINAL\n",
            "Perkins 9087 9094 PERSON\n",
            "Elliott 9099 9106 GPE\n",
            "Mayfield 9110 9118 PERSON\n",
            "5 9120 9121 CARDINAL\n",
            "Porter’s 9122 9130 ORG\n",
            "182 9136 9139 CARDINAL\n",
            "3 9144 9145 CARDINAL\n",
            "Dane 9429 9433 PERSON\n",
            "American 9476 9484 NORP\n",
            "Bacon’s Abridgment 9495 9513 ORG\n",
            "Wheat 9522 9527 PERSON\n",
            "Whipple v. Foot 9822 9837 ORG\n",
            "Poole’s 9854 9861 ORG\n",
            "Salk 9868 9872 ORG\n",
            "368 9874 9877 CARDINAL\n",
            "1 9879 9880 CARDINAL\n",
            "6 9896 9897 CARDINAL\n",
            "East 9898 9902 LOC\n",
            "604 9904 9907 CARDINAL\n",
            "Whipple 9917 9924 ORG\n",
            "Foot 9928 9932 ORG\n",
            "first 10266 10271 ORDINAL\n",
            "the act of 1821 10283 10298 DATE\n",
            "167 10623 10626 CARDINAL\n",
            "745 11254 11257 CARDINAL\n",
            "Mansony 11472 11479 ORG\n",
            "Hurtell 11484 11491 PERSON\n",
            "the Bank of the United States 11517 11546 ORG\n",
            "4 13174 13175 CARDINAL\n",
            "746 13809 13812 CARDINAL\n",
            "J.\n",
            " 14545 14548 ORG\n",
            "4 14550 14551 CARDINAL\n",
            "Clay’s Dig 14836 14846 WORK_OF_ART\n",
            "210 14848 14851 CARDINAL\n",
            "46 14855 14857 CARDINAL\n",
            "State 15287 15292 ORG\n",
            "747 16168 16171 CARDINAL\n",
            "5 16277 16278 CARDINAL\n",
            "5 17584 17585 CARDINAL\n",
            "1843 17596 17600 CARDINAL\n",
            "End of Document\n",
            " 17608 17624 ORG\n",
            "Thomson Reuters 17631 17646 ORG\n",
            "U.S. Government Works 17669 17690 ORG\n",
            "Citing References 17692 17709 PERSON\n",
            "9 17711 17712 CARDINAL\n",
            "1 17767 17768 CARDINAL\n",
            "Booker 17771 17777 PERSON\n",
            "55 17795 17797 CARDINAL\n",
            "Ala. 266 17798 17806 DATE\n",
            "271 17808 17811 CARDINAL\n",
            "Ala. 17814 17818 GPE\n",
            "Conversion of Cotton 17830 17850 ORG\n",
            "Case 17867 17871 GPE\n",
            "the Circuit Court of Hale 17885 17910 ORG\n",
            "M. J. SAFFOLD 17934 17947 PERSON\n",
            "Dec Term 1876 17949 17962 PERSON\n",
            "2 17979 17980 CARDINAL\n",
            "Lehman, Durr & Co. 17983 18001 ORG\n",
            "Marshall 18005 18013 PERSON\n",
            "47 18014 18016 CARDINAL\n",
            "362 18022 18025 CARDINAL\n",
            "376 18027 18030 CARDINAL\n",
            "Ala. 18033 18037 GPE\n",
            "TROVER 18039 18045 ORG\n",
            "COTTON 18064 18070 ORG\n",
            "the City Court of Montgomery 18085 18113 ORG\n",
            "JOHN D. CUNNINGHAM 18133 18151 PERSON\n",
            "Jan Term 1872 18153 18166 PERSON\n",
            "3 18183 18184 CARDINAL\n",
            "Bibb 18187 18191 PERSON\n",
            "Janney 18195 18201 PERSON\n",
            "45 18202 18204 CARDINAL\n",
            "329 18210 18213 CARDINAL\n",
            "334 18215 18218 CARDINAL\n",
            "Ala. 18221 18225 GPE\n",
            "WAGES 18240 18245 ORG\n",
            "WAIVER 18247 18253 ORG\n",
            "APPEAL 18269 18275 ORG\n",
            "City Court of Montgomery 18281 18305 ORG\n",
            "JOHN D. CUNNINGHAM 18325 18343 PERSON\n",
            "Jan Term 1871 18345 18358 PERSON\n",
            "4 18375 18376 CARDINAL\n",
            "McKenzie 18379 18387 PERSON\n",
            "31 18399 18401 CARDINAL\n",
            "527 18412 18415 CARDINAL\n",
            "Ala. 18418 18422 GPE\n",
            "the Circuit Court of Barbour 18475 18503 ORG\n",
            "S. D. HALE 18527 18537 PERSON\n",
            "Jan Term 1858 18539 18552 PERSON\n",
            "5 18569 18570 CARDINAL\n",
            "Evans 18573 18578 PERSON\n",
            "Lamar 18582 18587 ORG\n",
            "21 18588 18590 CARDINAL\n",
            "333 18596 18599 CARDINAL\n",
            "335 18601 18604 CARDINAL\n",
            "Ala. 18608 18612 GPE\n",
            "ERROR 18613 18618 ORG\n",
            "the Circuit Court of Autauga 18622 18650 ORG\n",
            "A. B. MOORE 18674 18685 PERSON\n",
            "Jun Term 1852 18687 18700 PERSON\n",
            "6 18718 18719 CARDINAL\n",
            "Bowman 18731 18737 PERSON\n",
            "8 18738 18739 CARDINAL\n",
            "Cal 18740 18743 ORG\n",
            "145 18745 18748 CARDINAL\n",
            "147 18750 18753 CARDINAL\n",
            "Court 18781 18786 ORG\n",
            "Jacob S. Cohen 18802 18816 PERSON\n",
            "Court 18892 18897 ORG\n",
            "Cohen 18913 18918 PERSON\n",
            "Jul Term 18937 18945 PERSON\n",
            "7 18971 18972 CARDINAL\n",
            "65 18989 18991 CARDINAL\n",
            "258 19002 19005 CARDINAL\n",
            "Ala. 19008 19012 GPE\n",
            "Cotton 19053 19059 GPE\n",
            "APPEAL 19061 19067 ORG\n",
            "the Circuit Court of Etowah 19073 19100 ORG\n",
            "L. WHITLOCK 19128 19139 PERSON\n",
            "8 19175 19176 CARDINAL\n",
            "Edwards 19179 19186 PERSON\n",
            "Thompson 19190 19198 ORG\n",
            "4 19199 19200 CARDINAL\n",
            "914 19211 19214 CARDINAL\n",
            "Tenn. 19217 19222 GPE\n",
            "Weakley county 19250 19264 GPE\n",
            "May 1887 19266 19274 DATE\n",
            "9 19284 19285 CARDINAL\n",
            "103 19363 19366 CARDINAL\n",
            "annual 19428 19434 DATE\n",
            "1936 19562 19566 DATE\n",
            "3 19597 19598 CARDINAL\n",
            "Referenced Title 19610 19626 PERSON\n",
            "1 19667 19668 CARDINAL\n",
            "Austin 19671 19677 PERSON\n",
            "Sawyer 19681 19687 PERSON\n",
            "9 Cow 19688 19693 QUANTITY\n",
            "39 19695 19697 CARDINAL\n",
            "1828 19709 19713 DATE\n",
            "W. 19839 19841 PERSON\n",
            "2 19903 19904 CARDINAL\n",
            "Cited 19905 19910 ORG\n",
            "2 19912 19913 CARDINAL\n",
            "Perkins 19916 19923 PERSON\n",
            "Mayfield 19927 19935 GPE\n",
            "5 19936 19937 CARDINAL\n",
            "182 19944 19947 CARDINAL\n",
            "Ala. 19949 19953 GPE\n",
            "1837 19955 19959 DATE\n",
            "the Circuit Court of Tuskaloosa 19980 20011 ORG\n",
            "2 20018 20019 CARDINAL\n",
            "3 20031 20032 CARDINAL\n",
            "Stewart 20035 20042 PERSON\n",
            "9 20054 20055 CARDINAL\n",
            "Johns 20056 20061 ORG\n",
            "108 20063 20066 CARDINAL\n",
            "1812 20078 20082 DATE\n",
            "six years 20107 20116 DATE\n",
            "A. 20161 20163 ORG\n",
            "each year 20244 20253 DATE\n",
            "2 20270 20271 CARDINAL\n",
            "History 20419 20426 NORP\n"
          ],
          "name": "stdout"
        }
      ]
    },
    {
      "cell_type": "code",
      "metadata": {
        "id": "nssRM6afb5FA",
        "colab_type": "code",
        "colab": {}
      },
      "source": [
        ""
      ],
      "execution_count": 0,
      "outputs": []
    }
  ]
}